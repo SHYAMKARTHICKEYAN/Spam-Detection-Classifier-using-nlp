{
  "metadata": {
    "kernelspec": {
      "language": "python",
      "display_name": "Python 3",
      "name": "python3"
    },
    "language_info": {
      "name": "python",
      "version": "3.7.10",
      "mimetype": "text/x-python",
      "codemirror_mode": {
        "name": "ipython",
        "version": 3
      },
      "pygments_lexer": "ipython3",
      "nbconvert_exporter": "python",
      "file_extension": ".py"
    },
    "colab": {
      "provenance": []
    }
  },
  "nbformat_minor": 0,
  "nbformat": 4,
  "cells": [
    {
      "cell_type": "code",
      "source": [
        "from google.colab import drive\n",
        "drive.mount('/content/drive')"
      ],
      "metadata": {
        "colab": {
          "base_uri": "https://localhost:8080/"
        },
        "id": "7yXhUlDaz7Wk",
        "outputId": "b48e72c2-bca3-4677-d676-655ae019729e"
      },
      "execution_count": 1,
      "outputs": [
        {
          "output_type": "stream",
          "name": "stdout",
          "text": [
            "Mounted at /content/drive\n"
          ]
        }
      ]
    },
    {
      "cell_type": "markdown",
      "source": [],
      "metadata": {
        "id": "9RINGybLtcMP"
      }
    },
    {
      "cell_type": "code",
      "source": [
        "# This Python 3 environment comes with many helpful analytics libraries installed\n",
        "# It is defined by the kaggle/python Docker image: https://github.com/kaggle/docker-python\n",
        "# For example, here's several helpful packages to load\n",
        "\n",
        "import numpy as np # linear algebra\n",
        "import pandas as pd # data processing, CSV file I/O (e.g. pd.read_csv)\n",
        "\n",
        "# Input data files are available in the read-only \"../input/\" directory\n",
        "# For example, running this (by clicking run or pressing Shift+Enter) will list all files under the input directory\n",
        "\n",
        "import os\n",
        "for dirname, _, filenames in os.walk('/content/drive/MyDrive/Colab Notebooks'):\n",
        "    for filename in filenames:\n",
        "        print(os.path.join(dirname, filename))\n",
        "\n",
        "# You can write up to 20GB to the current directory (/kaggle/working/) that gets preserved as output when you create a version using \"Save & Run All\" \n",
        "# You can also write temporary files to /kaggle/temp/, but they won't be saved outside of the current session"
      ],
      "metadata": {
        "_uuid": "8f2839f25d086af736a60e9eeb907d3b93b6e0e5",
        "_cell_guid": "b1076dfc-b9ad-4769-8c92-a6c4dae69d19",
        "execution": {
          "iopub.status.busy": "2022-06-02T11:04:31.588926Z",
          "iopub.execute_input": "2022-06-02T11:04:31.589325Z",
          "iopub.status.idle": "2022-06-02T11:04:31.629414Z",
          "shell.execute_reply.started": "2022-06-02T11:04:31.589220Z",
          "shell.execute_reply": "2022-06-02T11:04:31.628619Z"
        },
        "trusted": true,
        "colab": {
          "base_uri": "https://localhost:8080/"
        },
        "id": "2vXiTiHmtcMS",
        "outputId": "a6abf3bc-d724-425e-ead3-bef9e093c32d"
      },
      "execution_count": 2,
      "outputs": [
        {
          "output_type": "stream",
          "name": "stdout",
          "text": [
            "/content/drive/MyDrive/Colab Notebooks/winequalityred.csv\n",
            "/content/drive/MyDrive/Colab Notebooks/ABALONE.ipynb\n",
            "/content/drive/MyDrive/Colab Notebooks/SHYAM.ipynb\n",
            "/content/drive/MyDrive/Colab Notebooks/IONOSPHERE PROJECT.ipynb\n",
            "/content/drive/MyDrive/Colab Notebooks/LUNG CANCER PROJECT.ipynb\n",
            "/content/drive/MyDrive/Colab Notebooks/BANK NOTE AUNTHENTICATION.ipynb\n",
            "/content/drive/MyDrive/Colab Notebooks/WHEAT SEED PROJECT.ipynb\n",
            "/content/drive/MyDrive/Colab Notebooks/creditcard fraud detection.csv\n",
            "/content/drive/MyDrive/Colab Notebooks/creditcard.csv\n",
            "/content/drive/MyDrive/Colab Notebooks/Untitled2.ipynb\n",
            "/content/drive/MyDrive/Colab Notebooks/Face_Expression_Detection.ipynb\n",
            "/content/drive/MyDrive/Colab Notebooks/spacy.ipynb\n",
            "/content/drive/MyDrive/Colab Notebooks/WINE QUALITY PROJECT.ipynb\n",
            "/content/drive/MyDrive/Colab Notebooks/Copy of emojify_project_through_graph.ipynb\n",
            "/content/drive/MyDrive/Colab Notebooks/Movies_Review_Classification-checkpoint(friend).ipynb\n",
            "/content/drive/MyDrive/Colab Notebooks/train_data.pkl\n",
            "/content/drive/MyDrive/Colab Notebooks/Corona2.json\n",
            "/content/drive/MyDrive/Colab Notebooks/base_config.cfg\n",
            "/content/drive/MyDrive/Colab Notebooks/training_data.json\n",
            "/content/drive/MyDrive/Colab Notebooks/articles1.csv\n",
            "/content/drive/MyDrive/Colab Notebooks/Copy of Named_Entity_Recognition_NER_using_spaCy - Extracting_Subject_Verb_Action.ipynb\n",
            "/content/drive/MyDrive/Colab Notebooks/english.all.3class.distsim.crf.ser.gz\n",
            "/content/drive/MyDrive/Colab Notebooks/stanford-ner.jar\n",
            "/content/drive/MyDrive/Colab Notebooks/Emotion_Classification.ipynb\n",
            "/content/drive/MyDrive/Colab Notebooks/Copy of Movies_Review_Classification-checkpoint(friend).ipynb\n",
            "/content/drive/MyDrive/Colab Notebooks/emotionModel.hdf5\n",
            "/content/drive/MyDrive/Colab Notebooks/dlib-19.19.0-cp37-cp37m-win_amd64.whl\n",
            "/content/drive/MyDrive/Colab Notebooks/shape_predictor_68_face_landmarks.dat\n",
            "/content/drive/MyDrive/Colab Notebooks/Copy of colab_webcam.ipynb\n",
            "/content/drive/MyDrive/Colab Notebooks/Copy of Movie_review_classificationj.ipynb\n",
            "/content/drive/MyDrive/Colab Notebooks/All Copy of Movie_review_classificationj.ipynb\n",
            "/content/drive/MyDrive/Colab Notebooks/sla.csv\n",
            "/content/drive/MyDrive/Colab Notebooks/Copy of Face Mask Detection(friend).ipynb\n",
            "/content/drive/MyDrive/Colab Notebooks/facenet_keras.h5\n",
            "/content/drive/MyDrive/Colab Notebooks/Copy of FaceRecog with COLAB (2).ipynb\n",
            "/content/drive/MyDrive/Colab Notebooks/image5.jpg\n",
            "/content/drive/MyDrive/Colab Notebooks/Copy of Face_Expression_Detection\n",
            "/content/drive/MyDrive/Colab Notebooks/image3.webp\n",
            "/content/drive/MyDrive/Colab Notebooks/trump.webp\n",
            "/content/drive/MyDrive/Colab Notebooks/girlsmask.jpg\n",
            "/content/drive/MyDrive/Colab Notebooks/haarcascade_frontalface_default.xml\n",
            "/content/drive/MyDrive/Colab Notebooks/EMOTION RECOGNITION.ipynb\n",
            "/content/drive/MyDrive/Colab Notebooks/mask_recog.h5\n",
            "/content/drive/MyDrive/Colab Notebooks/Copy of Copy of Emotion Detection BY SHYAM KARTHICKEYAN - 2.ipynb\n",
            "/content/drive/MyDrive/Colab Notebooks/Copy of BuatSignatureHaar2.ipynb\n",
            "/content/drive/MyDrive/Colab Notebooks/Copy of FaceRecog with COLAB (1).ipynb\n",
            "/content/drive/MyDrive/Colab Notebooks/Copy of FaceRecog with COLAB.ipynb\n",
            "/content/drive/MyDrive/Colab Notebooks/Copy of age&genderDetection by shyam karthickeyan.ipynb\n",
            "/content/drive/MyDrive/Colab Notebooks/resume-parser-with-name-entity-recognition.ipynb\n",
            "/content/drive/MyDrive/Colab Notebooks/Copy of resume-parser-with-name-entity-recognition.ipynb\n",
            "/content/drive/MyDrive/Colab Notebooks/tokenizer\n",
            "/content/drive/MyDrive/Colab Notebooks/meta.json\n",
            "/content/drive/MyDrive/Colab Notebooks/config.cfg\n",
            "/content/drive/MyDrive/Colab Notebooks/Copy of resume-parser-with-name-entity-recognition2.ipynb\n",
            "/content/drive/MyDrive/Colab Notebooks/Copy of 001_Action_Recognition_(UCF101_Dataset).ipynb\n",
            "/content/drive/MyDrive/Colab Notebooks/001_Action_Recognition_(UCF101_Dataset).ipynb\n",
            "/content/drive/MyDrive/Colab Notebooks/Copy of Emotion Detection BY SHYAM KARTHICKEYAN - 2.ipynb\n",
            "/content/drive/MyDrive/Colab Notebooks/Copy of Untitled29.ipynb\n",
            "/content/drive/MyDrive/Colab Notebooks/Movie_review_classificationj.ipynb\n",
            "/content/drive/MyDrive/Colab Notebooks/SLA.ipynb\n",
            "/content/drive/MyDrive/Colab Notebooks/toxic-comments-classification.ipynb\n",
            "/content/drive/MyDrive/Colab Notebooks/text-summarization-with-seq2seq-model.ipynb\n",
            "/content/drive/MyDrive/Colab Notebooks/BBC-text-summarization.ipynb\n",
            "/content/drive/MyDrive/Colab Notebooks/my first ai -food-review-text-summarization.ipynb\n",
            "/content/drive/MyDrive/Colab Notebooks/Copy of my first ai -food-review-text-summarization.ipynb\n",
            "/content/drive/MyDrive/Colab Notebooks/Copy of ai2-topic-modelling-with-spacy-and-scikit-learn.ipynb\n",
            "/content/drive/MyDrive/Colab Notebooks/great ai language-detection-using-nlp.ipynb\n",
            "/content/drive/MyDrive/Colab Notebooks/Copy of great ai language-detection-using-nlp.ipynb\n",
            "/content/drive/MyDrive/Colab Notebooks/Copy of my great project texts-summarizing-with-the-help-of-spacy.ipynb\n",
            "/content/drive/MyDrive/Colab Notebooks/my great project texts-summarizing-with-the-help-of-spacy.ipynb\n",
            "/content/drive/MyDrive/Colab Notebooks/greatest ai project nlp-text-summarizer-using-spacy.ipynb\n",
            "/content/drive/MyDrive/Colab Notebooks/Copy of greatest ai project nlp-text-summarizer-using-spacy.ipynb\n",
            "/content/drive/MyDrive/Colab Notebooks/language-detection-using-spacy.ipynb\n",
            "/content/drive/MyDrive/Colab Notebooks/great ai language detection project the great.ipynb\n",
            "/content/drive/MyDrive/Colab Notebooks/gretest achievement ai toxic-comment-classification.ipynb\n",
            "/content/drive/MyDrive/Colab Notebooks/quora-question-pairs.ipynb\n",
            "/content/drive/MyDrive/Colab Notebooks/ai2-topic-modelling-with-spacy-and-scikit-learn.ipynb\n",
            "/content/drive/MyDrive/Colab Notebooks/Copy of IMDB and Amazon Review Classification with SpaCy.ipynb\n",
            "/content/drive/MyDrive/Colab Notebooks/semantic-search-engine-using-nlp (1).ipynb\n",
            "/content/drive/MyDrive/Colab Notebooks/XGBOOST IMDB and Amazon Review Classification with SpaCy.ipynb\n",
            "/content/drive/MyDrive/Colab Notebooks/Copy of Copy of IMDB and Amazon Review Classification with SpaCy.ipynb\n",
            "/content/drive/MyDrive/Colab Notebooks/Copy_of_IMDB_and_Amazon_Review_Classification_with_SpaCy.ipynb\n",
            "/content/drive/MyDrive/Colab Notebooks/semantic-search-engine-using-nlp.ipynb\n",
            "/content/drive/MyDrive/Colab Notebooks/Copy of gretest achievement ai toxic-comment-classification.ipynb\n",
            "/content/drive/MyDrive/Colab Notebooks/Copy of Custom NER with Spacy3\n",
            "/content/drive/MyDrive/Colab Notebooks/INOVATIVE EXPERIMENT5.ipynb\n",
            "/content/drive/MyDrive/Colab Notebooks/Untitled5.ipynb\n",
            "/content/drive/MyDrive/Colab Notebooks/EXCLUSIVE AND INNOVATION PROJECT5.ipynb\n",
            "/content/drive/MyDrive/Colab Notebooks/paraphrase_generator.ipynb\n",
            "/content/drive/MyDrive/Colab Notebooks/AI-wiki-ir-chatbot.ipynb\n",
            "/content/drive/MyDrive/Colab Notebooks/quest-nlpaug-0-0-11-example.ipynb\n",
            "/content/drive/MyDrive/Colab Notebooks/AI_paraphrase_generator.ipynb\n",
            "/content/drive/MyDrive/Colab Notebooks/spam-detection-classifier-using-nlp-by-nabanita.ipynb\n",
            "/content/drive/MyDrive/Colab Notebooks/spam.csv\n",
            "/content/drive/MyDrive/Colab Notebooks/Emotion-detection/LICENSE\n",
            "/content/drive/MyDrive/Colab Notebooks/Emotion-detection/README.md\n",
            "/content/drive/MyDrive/Colab Notebooks/Emotion-detection/requirements.txt\n",
            "/content/drive/MyDrive/Colab Notebooks/Emotion-detection/trump.webp\n",
            "/content/drive/MyDrive/Colab Notebooks/Emotion-detection/girlinmask.jpg\n",
            "/content/drive/MyDrive/Colab Notebooks/Emotion-detection/imgs/accuracy.png\n",
            "/content/drive/MyDrive/Colab Notebooks/Emotion-detection/src/dataset_prepare.py\n",
            "/content/drive/MyDrive/Colab Notebooks/Emotion-detection/src/haarcascade_frontalface_default.xml\n",
            "/content/drive/MyDrive/Colab Notebooks/Emotion-detection/src/emotions.py\n",
            "/content/drive/MyDrive/Colab Notebooks/Emotion-detection/.git/description\n",
            "/content/drive/MyDrive/Colab Notebooks/Emotion-detection/.git/config\n",
            "/content/drive/MyDrive/Colab Notebooks/Emotion-detection/.git/HEAD\n",
            "/content/drive/MyDrive/Colab Notebooks/Emotion-detection/.git/packed-refs\n",
            "/content/drive/MyDrive/Colab Notebooks/Emotion-detection/.git/index\n",
            "/content/drive/MyDrive/Colab Notebooks/Emotion-detection/.git/hooks/update.sample\n",
            "/content/drive/MyDrive/Colab Notebooks/Emotion-detection/.git/hooks/pre-applypatch.sample\n",
            "/content/drive/MyDrive/Colab Notebooks/Emotion-detection/.git/hooks/pre-receive.sample\n",
            "/content/drive/MyDrive/Colab Notebooks/Emotion-detection/.git/hooks/pre-rebase.sample\n",
            "/content/drive/MyDrive/Colab Notebooks/Emotion-detection/.git/hooks/fsmonitor-watchman.sample\n",
            "/content/drive/MyDrive/Colab Notebooks/Emotion-detection/.git/hooks/prepare-commit-msg.sample\n",
            "/content/drive/MyDrive/Colab Notebooks/Emotion-detection/.git/hooks/post-update.sample\n",
            "/content/drive/MyDrive/Colab Notebooks/Emotion-detection/.git/hooks/applypatch-msg.sample\n",
            "/content/drive/MyDrive/Colab Notebooks/Emotion-detection/.git/hooks/pre-commit.sample\n",
            "/content/drive/MyDrive/Colab Notebooks/Emotion-detection/.git/hooks/commit-msg.sample\n",
            "/content/drive/MyDrive/Colab Notebooks/Emotion-detection/.git/hooks/pre-push.sample\n",
            "/content/drive/MyDrive/Colab Notebooks/Emotion-detection/.git/info/exclude\n",
            "/content/drive/MyDrive/Colab Notebooks/Emotion-detection/.git/objects/pack/pack-02672eaaf82f9d36eb596113497e3d2bd33e166e.pack\n",
            "/content/drive/MyDrive/Colab Notebooks/Emotion-detection/.git/objects/pack/pack-02672eaaf82f9d36eb596113497e3d2bd33e166e.idx\n",
            "/content/drive/MyDrive/Colab Notebooks/Emotion-detection/.git/refs/heads/master\n",
            "/content/drive/MyDrive/Colab Notebooks/Emotion-detection/.git/refs/remotes/origin/HEAD\n",
            "/content/drive/MyDrive/Colab Notebooks/Emotion-detection/.git/logs/HEAD\n",
            "/content/drive/MyDrive/Colab Notebooks/Emotion-detection/.git/logs/refs/heads/master\n",
            "/content/drive/MyDrive/Colab Notebooks/Emotion-detection/.git/logs/refs/remotes/origin/HEAD\n",
            "/content/drive/MyDrive/Colab Notebooks/Emotion-detection/Emotion-detection/LICENSE\n",
            "/content/drive/MyDrive/Colab Notebooks/Emotion-detection/Emotion-detection/README.md\n",
            "/content/drive/MyDrive/Colab Notebooks/Emotion-detection/Emotion-detection/requirements.txt\n",
            "/content/drive/MyDrive/Colab Notebooks/Emotion-detection/Emotion-detection/Modelv.h5\n",
            "/content/drive/MyDrive/Colab Notebooks/Emotion-detection/Emotion-detection/haarcascade_frontalface_default.xml\n",
            "/content/drive/MyDrive/Colab Notebooks/Emotion-detection/Emotion-detection/image1.jpeg\n",
            "/content/drive/MyDrive/Colab Notebooks/Emotion-detection/Emotion-detection/src/dataset_prepare.py\n",
            "/content/drive/MyDrive/Colab Notebooks/Emotion-detection/Emotion-detection/src/haarcascade_frontalface_default.xml\n",
            "/content/drive/MyDrive/Colab Notebooks/Emotion-detection/Emotion-detection/src/emotions.py\n",
            "/content/drive/MyDrive/Colab Notebooks/Emotion-detection/Emotion-detection/.git/config\n",
            "/content/drive/MyDrive/Colab Notebooks/Emotion-detection/Emotion-detection/.git/HEAD\n",
            "/content/drive/MyDrive/Colab Notebooks/Emotion-detection/Emotion-detection/.git/packed-refs\n",
            "/content/drive/MyDrive/Colab Notebooks/Emotion-detection/Emotion-detection/.git/description\n",
            "/content/drive/MyDrive/Colab Notebooks/Emotion-detection/Emotion-detection/.git/index\n",
            "/content/drive/MyDrive/Colab Notebooks/Emotion-detection/Emotion-detection/.git/info/exclude\n",
            "/content/drive/MyDrive/Colab Notebooks/Emotion-detection/Emotion-detection/.git/logs/HEAD\n",
            "/content/drive/MyDrive/Colab Notebooks/Emotion-detection/Emotion-detection/.git/logs/refs/remotes/origin/HEAD\n",
            "/content/drive/MyDrive/Colab Notebooks/Emotion-detection/Emotion-detection/.git/logs/refs/heads/master\n",
            "/content/drive/MyDrive/Colab Notebooks/Emotion-detection/Emotion-detection/.git/objects/pack/pack-02672eaaf82f9d36eb596113497e3d2bd33e166e.idx\n",
            "/content/drive/MyDrive/Colab Notebooks/Emotion-detection/Emotion-detection/.git/objects/pack/pack-02672eaaf82f9d36eb596113497e3d2bd33e166e.pack\n",
            "/content/drive/MyDrive/Colab Notebooks/Emotion-detection/Emotion-detection/.git/refs/heads/master\n",
            "/content/drive/MyDrive/Colab Notebooks/Emotion-detection/Emotion-detection/.git/refs/remotes/origin/HEAD\n",
            "/content/drive/MyDrive/Colab Notebooks/Emotion-detection/Emotion-detection/.git/hooks/applypatch-msg.sample\n",
            "/content/drive/MyDrive/Colab Notebooks/Emotion-detection/Emotion-detection/.git/hooks/commit-msg.sample\n",
            "/content/drive/MyDrive/Colab Notebooks/Emotion-detection/Emotion-detection/.git/hooks/pre-rebase.sample\n",
            "/content/drive/MyDrive/Colab Notebooks/Emotion-detection/Emotion-detection/.git/hooks/update.sample\n",
            "/content/drive/MyDrive/Colab Notebooks/Emotion-detection/Emotion-detection/.git/hooks/post-update.sample\n",
            "/content/drive/MyDrive/Colab Notebooks/Emotion-detection/Emotion-detection/.git/hooks/pre-receive.sample\n",
            "/content/drive/MyDrive/Colab Notebooks/Emotion-detection/Emotion-detection/.git/hooks/pre-commit.sample\n",
            "/content/drive/MyDrive/Colab Notebooks/Emotion-detection/Emotion-detection/.git/hooks/fsmonitor-watchman.sample\n",
            "/content/drive/MyDrive/Colab Notebooks/Emotion-detection/Emotion-detection/.git/hooks/pre-push.sample\n",
            "/content/drive/MyDrive/Colab Notebooks/Emotion-detection/Emotion-detection/.git/hooks/pre-applypatch.sample\n",
            "/content/drive/MyDrive/Colab Notebooks/Emotion-detection/Emotion-detection/.git/hooks/prepare-commit-msg.sample\n",
            "/content/drive/MyDrive/Colab Notebooks/Emotion-detection/Emotion-detection/imgs/accuracy.png\n",
            "/content/drive/MyDrive/Colab Notebooks/ner/Smith Resume.pdf\n",
            "/content/drive/MyDrive/Colab Notebooks/ner/model\n",
            "/content/drive/MyDrive/Colab Notebooks/ner/moves\n",
            "/content/drive/MyDrive/Colab Notebooks/ner/cfg\n",
            "/content/drive/MyDrive/Colab Notebooks/vocab/strings.json\n",
            "/content/drive/MyDrive/Colab Notebooks/vocab/key2row\n",
            "/content/drive/MyDrive/Colab Notebooks/vocab/vectors\n",
            "/content/drive/MyDrive/Colab Notebooks/vocab/lookups.bin\n",
            "/content/drive/MyDrive/Colab Notebooks/vocab/vectors.cfg\n",
            "/content/drive/MyDrive/Colab Notebooks/nlp_ner_model/tokenizer\n",
            "/content/drive/MyDrive/Colab Notebooks/nlp_ner_model/config.cfg\n",
            "/content/drive/MyDrive/Colab Notebooks/nlp_ner_model/meta.json\n",
            "/content/drive/MyDrive/Colab Notebooks/nlp_ner_model/vocab/strings.json\n",
            "/content/drive/MyDrive/Colab Notebooks/nlp_ner_model/vocab/vectors\n",
            "/content/drive/MyDrive/Colab Notebooks/nlp_ner_model/vocab/key2row\n",
            "/content/drive/MyDrive/Colab Notebooks/nlp_ner_model/vocab/vectors.cfg\n",
            "/content/drive/MyDrive/Colab Notebooks/nlp_ner_model/vocab/lookups.bin\n",
            "/content/drive/MyDrive/Colab Notebooks/nlp_ner_model/ner/Xinni_Chng.pdf\n",
            "/content/drive/MyDrive/Colab Notebooks/nlp_ner_model/ner/tokenizer\n",
            "/content/drive/MyDrive/Colab Notebooks/nlp_ner_model/ner/config.cfg\n",
            "/content/drive/MyDrive/Colab Notebooks/nlp_ner_model/ner/meta.json\n",
            "/content/drive/MyDrive/Colab Notebooks/nlp_ner_model/ner/moves\n",
            "/content/drive/MyDrive/Colab Notebooks/nlp_ner_model/ner/model\n",
            "/content/drive/MyDrive/Colab Notebooks/nlp_ner_model/ner/cfg\n",
            "/content/drive/MyDrive/Colab Notebooks/nlp_ner_model/ner/ner/cfg\n",
            "/content/drive/MyDrive/Colab Notebooks/nlp_ner_model/ner/ner/moves\n",
            "/content/drive/MyDrive/Colab Notebooks/nlp_ner_model/ner/ner/model\n",
            "/content/drive/MyDrive/Colab Notebooks/nlp_ner_model/ner/vocab/lookups.bin\n",
            "/content/drive/MyDrive/Colab Notebooks/nlp_ner_model/ner/vocab/key2row\n",
            "/content/drive/MyDrive/Colab Notebooks/nlp_ner_model/ner/vocab/vectors.cfg\n",
            "/content/drive/MyDrive/Colab Notebooks/nlp_ner_model/ner/vocab/strings.json\n",
            "/content/drive/MyDrive/Colab Notebooks/nlp_ner_model/ner/vocab/vectors\n"
          ]
        }
      ]
    },
    {
      "cell_type": "markdown",
      "source": [
        "# SMS Spam Classifier"
      ],
      "metadata": {
        "id": "-cmMP3TOtcMW"
      }
    },
    {
      "cell_type": "markdown",
      "source": [
        "## Read the Dataset"
      ],
      "metadata": {
        "id": "nm0g9UxLtcMY"
      }
    },
    {
      "cell_type": "markdown",
      "source": [
        "While reading the data if you are getting any error regarding encoding and the data can't be read with regular utf-8 then we need to determine the character set of the data"
      ],
      "metadata": {
        "id": "wPoe8iAwtcMZ"
      }
    },
    {
      "cell_type": "code",
      "source": [
        "#Detect charset of the dataset\n",
        "file='/content/drive/MyDrive/Colab Notebooks/spam.csv'\n",
        "\n",
        "import chardet\n",
        "with open(file,'rb') as rawdata:\n",
        "    result = chardet.detect(rawdata.read(100000))\n",
        "result"
      ],
      "metadata": {
        "execution": {
          "iopub.status.busy": "2022-06-02T11:05:00.442174Z",
          "iopub.execute_input": "2022-06-02T11:05:00.442649Z",
          "iopub.status.idle": "2022-06-02T11:05:01.449672Z",
          "shell.execute_reply.started": "2022-06-02T11:05:00.442615Z",
          "shell.execute_reply": "2022-06-02T11:05:01.448791Z"
        },
        "trusted": true,
        "colab": {
          "base_uri": "https://localhost:8080/"
        },
        "id": "6mWH4kSZtcMa",
        "outputId": "2a838de8-8782-4979-e5ca-b178a2c84e84"
      },
      "execution_count": 3,
      "outputs": [
        {
          "output_type": "execute_result",
          "data": {
            "text/plain": [
              "{'encoding': 'Windows-1252', 'confidence': 0.7270322499829184, 'language': ''}"
            ]
          },
          "metadata": {},
          "execution_count": 3
        }
      ]
    },
    {
      "cell_type": "code",
      "source": [
        "#read the data\n",
        "smsdata = pd.read_csv(file,encoding='Windows-1252')"
      ],
      "metadata": {
        "execution": {
          "iopub.status.busy": "2022-06-02T11:05:25.540397Z",
          "iopub.execute_input": "2022-06-02T11:05:25.540736Z",
          "iopub.status.idle": "2022-06-02T11:05:25.570991Z",
          "shell.execute_reply.started": "2022-06-02T11:05:25.540705Z",
          "shell.execute_reply": "2022-06-02T11:05:25.570273Z"
        },
        "trusted": true,
        "id": "ZJj3VtRFtcMc"
      },
      "execution_count": 4,
      "outputs": []
    },
    {
      "cell_type": "code",
      "source": [
        "#get a glimpse of the data\n",
        "smsdata.head()"
      ],
      "metadata": {
        "execution": {
          "iopub.status.busy": "2022-06-02T11:05:30.721011Z",
          "iopub.execute_input": "2022-06-02T11:05:30.721566Z",
          "iopub.status.idle": "2022-06-02T11:05:30.742340Z",
          "shell.execute_reply.started": "2022-06-02T11:05:30.721531Z",
          "shell.execute_reply": "2022-06-02T11:05:30.741454Z"
        },
        "trusted": true,
        "colab": {
          "base_uri": "https://localhost:8080/",
          "height": 250
        },
        "id": "4dpgS7rGtcMe",
        "outputId": "8111fe82-e814-4e11-b97c-2473174b4c64"
      },
      "execution_count": 5,
      "outputs": [
        {
          "output_type": "execute_result",
          "data": {
            "text/plain": [
              "     v1                                                 v2 Unnamed: 2  \\\n",
              "0   ham  Go until jurong point, crazy.. Available only ...        NaN   \n",
              "1   ham                      Ok lar... Joking wif u oni...        NaN   \n",
              "2  spam  Free entry in 2 a wkly comp to win FA Cup fina...        NaN   \n",
              "3   ham  U dun say so early hor... U c already then say...        NaN   \n",
              "4   ham  Nah I don't think he goes to usf, he lives aro...        NaN   \n",
              "\n",
              "  Unnamed: 3 Unnamed: 4  \n",
              "0        NaN        NaN  \n",
              "1        NaN        NaN  \n",
              "2        NaN        NaN  \n",
              "3        NaN        NaN  \n",
              "4        NaN        NaN  "
            ],
            "text/html": [
              "\n",
              "  <div id=\"df-6d7ffc9e-96d3-48f2-8025-45c9bf4d4b7e\">\n",
              "    <div class=\"colab-df-container\">\n",
              "      <div>\n",
              "<style scoped>\n",
              "    .dataframe tbody tr th:only-of-type {\n",
              "        vertical-align: middle;\n",
              "    }\n",
              "\n",
              "    .dataframe tbody tr th {\n",
              "        vertical-align: top;\n",
              "    }\n",
              "\n",
              "    .dataframe thead th {\n",
              "        text-align: right;\n",
              "    }\n",
              "</style>\n",
              "<table border=\"1\" class=\"dataframe\">\n",
              "  <thead>\n",
              "    <tr style=\"text-align: right;\">\n",
              "      <th></th>\n",
              "      <th>v1</th>\n",
              "      <th>v2</th>\n",
              "      <th>Unnamed: 2</th>\n",
              "      <th>Unnamed: 3</th>\n",
              "      <th>Unnamed: 4</th>\n",
              "    </tr>\n",
              "  </thead>\n",
              "  <tbody>\n",
              "    <tr>\n",
              "      <th>0</th>\n",
              "      <td>ham</td>\n",
              "      <td>Go until jurong point, crazy.. Available only ...</td>\n",
              "      <td>NaN</td>\n",
              "      <td>NaN</td>\n",
              "      <td>NaN</td>\n",
              "    </tr>\n",
              "    <tr>\n",
              "      <th>1</th>\n",
              "      <td>ham</td>\n",
              "      <td>Ok lar... Joking wif u oni...</td>\n",
              "      <td>NaN</td>\n",
              "      <td>NaN</td>\n",
              "      <td>NaN</td>\n",
              "    </tr>\n",
              "    <tr>\n",
              "      <th>2</th>\n",
              "      <td>spam</td>\n",
              "      <td>Free entry in 2 a wkly comp to win FA Cup fina...</td>\n",
              "      <td>NaN</td>\n",
              "      <td>NaN</td>\n",
              "      <td>NaN</td>\n",
              "    </tr>\n",
              "    <tr>\n",
              "      <th>3</th>\n",
              "      <td>ham</td>\n",
              "      <td>U dun say so early hor... U c already then say...</td>\n",
              "      <td>NaN</td>\n",
              "      <td>NaN</td>\n",
              "      <td>NaN</td>\n",
              "    </tr>\n",
              "    <tr>\n",
              "      <th>4</th>\n",
              "      <td>ham</td>\n",
              "      <td>Nah I don't think he goes to usf, he lives aro...</td>\n",
              "      <td>NaN</td>\n",
              "      <td>NaN</td>\n",
              "      <td>NaN</td>\n",
              "    </tr>\n",
              "  </tbody>\n",
              "</table>\n",
              "</div>\n",
              "      <button class=\"colab-df-convert\" onclick=\"convertToInteractive('df-6d7ffc9e-96d3-48f2-8025-45c9bf4d4b7e')\"\n",
              "              title=\"Convert this dataframe to an interactive table.\"\n",
              "              style=\"display:none;\">\n",
              "        \n",
              "  <svg xmlns=\"http://www.w3.org/2000/svg\" height=\"24px\"viewBox=\"0 0 24 24\"\n",
              "       width=\"24px\">\n",
              "    <path d=\"M0 0h24v24H0V0z\" fill=\"none\"/>\n",
              "    <path d=\"M18.56 5.44l.94 2.06.94-2.06 2.06-.94-2.06-.94-.94-2.06-.94 2.06-2.06.94zm-11 1L8.5 8.5l.94-2.06 2.06-.94-2.06-.94L8.5 2.5l-.94 2.06-2.06.94zm10 10l.94 2.06.94-2.06 2.06-.94-2.06-.94-.94-2.06-.94 2.06-2.06.94z\"/><path d=\"M17.41 7.96l-1.37-1.37c-.4-.4-.92-.59-1.43-.59-.52 0-1.04.2-1.43.59L10.3 9.45l-7.72 7.72c-.78.78-.78 2.05 0 2.83L4 21.41c.39.39.9.59 1.41.59.51 0 1.02-.2 1.41-.59l7.78-7.78 2.81-2.81c.8-.78.8-2.07 0-2.86zM5.41 20L4 18.59l7.72-7.72 1.47 1.35L5.41 20z\"/>\n",
              "  </svg>\n",
              "      </button>\n",
              "      \n",
              "  <style>\n",
              "    .colab-df-container {\n",
              "      display:flex;\n",
              "      flex-wrap:wrap;\n",
              "      gap: 12px;\n",
              "    }\n",
              "\n",
              "    .colab-df-convert {\n",
              "      background-color: #E8F0FE;\n",
              "      border: none;\n",
              "      border-radius: 50%;\n",
              "      cursor: pointer;\n",
              "      display: none;\n",
              "      fill: #1967D2;\n",
              "      height: 32px;\n",
              "      padding: 0 0 0 0;\n",
              "      width: 32px;\n",
              "    }\n",
              "\n",
              "    .colab-df-convert:hover {\n",
              "      background-color: #E2EBFA;\n",
              "      box-shadow: 0px 1px 2px rgba(60, 64, 67, 0.3), 0px 1px 3px 1px rgba(60, 64, 67, 0.15);\n",
              "      fill: #174EA6;\n",
              "    }\n",
              "\n",
              "    [theme=dark] .colab-df-convert {\n",
              "      background-color: #3B4455;\n",
              "      fill: #D2E3FC;\n",
              "    }\n",
              "\n",
              "    [theme=dark] .colab-df-convert:hover {\n",
              "      background-color: #434B5C;\n",
              "      box-shadow: 0px 1px 3px 1px rgba(0, 0, 0, 0.15);\n",
              "      filter: drop-shadow(0px 1px 2px rgba(0, 0, 0, 0.3));\n",
              "      fill: #FFFFFF;\n",
              "    }\n",
              "  </style>\n",
              "\n",
              "      <script>\n",
              "        const buttonEl =\n",
              "          document.querySelector('#df-6d7ffc9e-96d3-48f2-8025-45c9bf4d4b7e button.colab-df-convert');\n",
              "        buttonEl.style.display =\n",
              "          google.colab.kernel.accessAllowed ? 'block' : 'none';\n",
              "\n",
              "        async function convertToInteractive(key) {\n",
              "          const element = document.querySelector('#df-6d7ffc9e-96d3-48f2-8025-45c9bf4d4b7e');\n",
              "          const dataTable =\n",
              "            await google.colab.kernel.invokeFunction('convertToInteractive',\n",
              "                                                     [key], {});\n",
              "          if (!dataTable) return;\n",
              "\n",
              "          const docLinkHtml = 'Like what you see? Visit the ' +\n",
              "            '<a target=\"_blank\" href=https://colab.research.google.com/notebooks/data_table.ipynb>data table notebook</a>'\n",
              "            + ' to learn more about interactive tables.';\n",
              "          element.innerHTML = '';\n",
              "          dataTable['output_type'] = 'display_data';\n",
              "          await google.colab.output.renderOutput(dataTable, element);\n",
              "          const docLink = document.createElement('div');\n",
              "          docLink.innerHTML = docLinkHtml;\n",
              "          element.appendChild(docLink);\n",
              "        }\n",
              "      </script>\n",
              "    </div>\n",
              "  </div>\n",
              "  "
            ]
          },
          "metadata": {},
          "execution_count": 5
        }
      ]
    },
    {
      "cell_type": "code",
      "source": [
        "#get shape of the data\n",
        "print(smsdata.shape)\n",
        "\n",
        "#get value at any cell\n",
        "print(smsdata.iloc[0]['v2'])"
      ],
      "metadata": {
        "execution": {
          "iopub.status.busy": "2022-06-02T11:05:35.816688Z",
          "iopub.execute_input": "2022-06-02T11:05:35.817594Z",
          "iopub.status.idle": "2022-06-02T11:05:35.826559Z",
          "shell.execute_reply.started": "2022-06-02T11:05:35.817555Z",
          "shell.execute_reply": "2022-06-02T11:05:35.825864Z"
        },
        "trusted": true,
        "colab": {
          "base_uri": "https://localhost:8080/"
        },
        "id": "gOowBvcUtcMf",
        "outputId": "b45f5d01-8a32-462b-e246-0aef489ed257"
      },
      "execution_count": 6,
      "outputs": [
        {
          "output_type": "stream",
          "name": "stdout",
          "text": [
            "(5572, 5)\n",
            "Go until jurong point, crazy.. Available only in bugis n great world la e buffet... Cine there got amore wat...\n"
          ]
        }
      ]
    },
    {
      "cell_type": "markdown",
      "source": [
        "## Data Preprocessing"
      ],
      "metadata": {
        "id": "Ijr1SB_7tcMf"
      }
    },
    {
      "cell_type": "code",
      "source": [
        "#First Remove the unnecessary columns at the end\n",
        "smsdata.drop(smsdata.columns[2:],axis=1,inplace=True)\n",
        "smsdata"
      ],
      "metadata": {
        "execution": {
          "iopub.status.busy": "2022-06-02T11:05:56.832950Z",
          "iopub.execute_input": "2022-06-02T11:05:56.833532Z",
          "iopub.status.idle": "2022-06-02T11:05:56.854950Z",
          "shell.execute_reply.started": "2022-06-02T11:05:56.833478Z",
          "shell.execute_reply": "2022-06-02T11:05:56.853957Z"
        },
        "trusted": true,
        "colab": {
          "base_uri": "https://localhost:8080/",
          "height": 423
        },
        "id": "m5Blry7QtcMg",
        "outputId": "7dfb99bd-a99e-48dd-fac6-5c90db82bb0e"
      },
      "execution_count": 7,
      "outputs": [
        {
          "output_type": "execute_result",
          "data": {
            "text/plain": [
              "        v1                                                 v2\n",
              "0      ham  Go until jurong point, crazy.. Available only ...\n",
              "1      ham                      Ok lar... Joking wif u oni...\n",
              "2     spam  Free entry in 2 a wkly comp to win FA Cup fina...\n",
              "3      ham  U dun say so early hor... U c already then say...\n",
              "4      ham  Nah I don't think he goes to usf, he lives aro...\n",
              "...    ...                                                ...\n",
              "5567  spam  This is the 2nd time we have tried 2 contact u...\n",
              "5568   ham              Will Ì_ b going to esplanade fr home?\n",
              "5569   ham  Pity, * was in mood for that. So...any other s...\n",
              "5570   ham  The guy did some bitching but I acted like i'd...\n",
              "5571   ham                         Rofl. Its true to its name\n",
              "\n",
              "[5572 rows x 2 columns]"
            ],
            "text/html": [
              "\n",
              "  <div id=\"df-1da4fee1-efc5-493b-9e0f-58e7e16d6aab\">\n",
              "    <div class=\"colab-df-container\">\n",
              "      <div>\n",
              "<style scoped>\n",
              "    .dataframe tbody tr th:only-of-type {\n",
              "        vertical-align: middle;\n",
              "    }\n",
              "\n",
              "    .dataframe tbody tr th {\n",
              "        vertical-align: top;\n",
              "    }\n",
              "\n",
              "    .dataframe thead th {\n",
              "        text-align: right;\n",
              "    }\n",
              "</style>\n",
              "<table border=\"1\" class=\"dataframe\">\n",
              "  <thead>\n",
              "    <tr style=\"text-align: right;\">\n",
              "      <th></th>\n",
              "      <th>v1</th>\n",
              "      <th>v2</th>\n",
              "    </tr>\n",
              "  </thead>\n",
              "  <tbody>\n",
              "    <tr>\n",
              "      <th>0</th>\n",
              "      <td>ham</td>\n",
              "      <td>Go until jurong point, crazy.. Available only ...</td>\n",
              "    </tr>\n",
              "    <tr>\n",
              "      <th>1</th>\n",
              "      <td>ham</td>\n",
              "      <td>Ok lar... Joking wif u oni...</td>\n",
              "    </tr>\n",
              "    <tr>\n",
              "      <th>2</th>\n",
              "      <td>spam</td>\n",
              "      <td>Free entry in 2 a wkly comp to win FA Cup fina...</td>\n",
              "    </tr>\n",
              "    <tr>\n",
              "      <th>3</th>\n",
              "      <td>ham</td>\n",
              "      <td>U dun say so early hor... U c already then say...</td>\n",
              "    </tr>\n",
              "    <tr>\n",
              "      <th>4</th>\n",
              "      <td>ham</td>\n",
              "      <td>Nah I don't think he goes to usf, he lives aro...</td>\n",
              "    </tr>\n",
              "    <tr>\n",
              "      <th>...</th>\n",
              "      <td>...</td>\n",
              "      <td>...</td>\n",
              "    </tr>\n",
              "    <tr>\n",
              "      <th>5567</th>\n",
              "      <td>spam</td>\n",
              "      <td>This is the 2nd time we have tried 2 contact u...</td>\n",
              "    </tr>\n",
              "    <tr>\n",
              "      <th>5568</th>\n",
              "      <td>ham</td>\n",
              "      <td>Will Ì_ b going to esplanade fr home?</td>\n",
              "    </tr>\n",
              "    <tr>\n",
              "      <th>5569</th>\n",
              "      <td>ham</td>\n",
              "      <td>Pity, * was in mood for that. So...any other s...</td>\n",
              "    </tr>\n",
              "    <tr>\n",
              "      <th>5570</th>\n",
              "      <td>ham</td>\n",
              "      <td>The guy did some bitching but I acted like i'd...</td>\n",
              "    </tr>\n",
              "    <tr>\n",
              "      <th>5571</th>\n",
              "      <td>ham</td>\n",
              "      <td>Rofl. Its true to its name</td>\n",
              "    </tr>\n",
              "  </tbody>\n",
              "</table>\n",
              "<p>5572 rows × 2 columns</p>\n",
              "</div>\n",
              "      <button class=\"colab-df-convert\" onclick=\"convertToInteractive('df-1da4fee1-efc5-493b-9e0f-58e7e16d6aab')\"\n",
              "              title=\"Convert this dataframe to an interactive table.\"\n",
              "              style=\"display:none;\">\n",
              "        \n",
              "  <svg xmlns=\"http://www.w3.org/2000/svg\" height=\"24px\"viewBox=\"0 0 24 24\"\n",
              "       width=\"24px\">\n",
              "    <path d=\"M0 0h24v24H0V0z\" fill=\"none\"/>\n",
              "    <path d=\"M18.56 5.44l.94 2.06.94-2.06 2.06-.94-2.06-.94-.94-2.06-.94 2.06-2.06.94zm-11 1L8.5 8.5l.94-2.06 2.06-.94-2.06-.94L8.5 2.5l-.94 2.06-2.06.94zm10 10l.94 2.06.94-2.06 2.06-.94-2.06-.94-.94-2.06-.94 2.06-2.06.94z\"/><path d=\"M17.41 7.96l-1.37-1.37c-.4-.4-.92-.59-1.43-.59-.52 0-1.04.2-1.43.59L10.3 9.45l-7.72 7.72c-.78.78-.78 2.05 0 2.83L4 21.41c.39.39.9.59 1.41.59.51 0 1.02-.2 1.41-.59l7.78-7.78 2.81-2.81c.8-.78.8-2.07 0-2.86zM5.41 20L4 18.59l7.72-7.72 1.47 1.35L5.41 20z\"/>\n",
              "  </svg>\n",
              "      </button>\n",
              "      \n",
              "  <style>\n",
              "    .colab-df-container {\n",
              "      display:flex;\n",
              "      flex-wrap:wrap;\n",
              "      gap: 12px;\n",
              "    }\n",
              "\n",
              "    .colab-df-convert {\n",
              "      background-color: #E8F0FE;\n",
              "      border: none;\n",
              "      border-radius: 50%;\n",
              "      cursor: pointer;\n",
              "      display: none;\n",
              "      fill: #1967D2;\n",
              "      height: 32px;\n",
              "      padding: 0 0 0 0;\n",
              "      width: 32px;\n",
              "    }\n",
              "\n",
              "    .colab-df-convert:hover {\n",
              "      background-color: #E2EBFA;\n",
              "      box-shadow: 0px 1px 2px rgba(60, 64, 67, 0.3), 0px 1px 3px 1px rgba(60, 64, 67, 0.15);\n",
              "      fill: #174EA6;\n",
              "    }\n",
              "\n",
              "    [theme=dark] .colab-df-convert {\n",
              "      background-color: #3B4455;\n",
              "      fill: #D2E3FC;\n",
              "    }\n",
              "\n",
              "    [theme=dark] .colab-df-convert:hover {\n",
              "      background-color: #434B5C;\n",
              "      box-shadow: 0px 1px 3px 1px rgba(0, 0, 0, 0.15);\n",
              "      filter: drop-shadow(0px 1px 2px rgba(0, 0, 0, 0.3));\n",
              "      fill: #FFFFFF;\n",
              "    }\n",
              "  </style>\n",
              "\n",
              "      <script>\n",
              "        const buttonEl =\n",
              "          document.querySelector('#df-1da4fee1-efc5-493b-9e0f-58e7e16d6aab button.colab-df-convert');\n",
              "        buttonEl.style.display =\n",
              "          google.colab.kernel.accessAllowed ? 'block' : 'none';\n",
              "\n",
              "        async function convertToInteractive(key) {\n",
              "          const element = document.querySelector('#df-1da4fee1-efc5-493b-9e0f-58e7e16d6aab');\n",
              "          const dataTable =\n",
              "            await google.colab.kernel.invokeFunction('convertToInteractive',\n",
              "                                                     [key], {});\n",
              "          if (!dataTable) return;\n",
              "\n",
              "          const docLinkHtml = 'Like what you see? Visit the ' +\n",
              "            '<a target=\"_blank\" href=https://colab.research.google.com/notebooks/data_table.ipynb>data table notebook</a>'\n",
              "            + ' to learn more about interactive tables.';\n",
              "          element.innerHTML = '';\n",
              "          dataTable['output_type'] = 'display_data';\n",
              "          await google.colab.output.renderOutput(dataTable, element);\n",
              "          const docLink = document.createElement('div');\n",
              "          docLink.innerHTML = docLinkHtml;\n",
              "          element.appendChild(docLink);\n",
              "        }\n",
              "      </script>\n",
              "    </div>\n",
              "  </div>\n",
              "  "
            ]
          },
          "metadata": {},
          "execution_count": 7
        }
      ]
    },
    {
      "cell_type": "code",
      "source": [
        "#import necessary libraries for natural language processing\n",
        "import re\n",
        "import nltk\n",
        "nltk.download(['stopwords','wordnet'])"
      ],
      "metadata": {
        "execution": {
          "iopub.status.busy": "2022-06-02T11:06:08.440754Z",
          "iopub.execute_input": "2022-06-02T11:06:08.441165Z",
          "iopub.status.idle": "2022-06-02T11:06:10.482077Z",
          "shell.execute_reply.started": "2022-06-02T11:06:08.441119Z",
          "shell.execute_reply": "2022-06-02T11:06:10.481153Z"
        },
        "trusted": true,
        "colab": {
          "base_uri": "https://localhost:8080/"
        },
        "id": "8mKfUq7otcMh",
        "outputId": "4a615884-e0f1-4d23-91a5-b468e812b8de"
      },
      "execution_count": 8,
      "outputs": [
        {
          "output_type": "stream",
          "name": "stderr",
          "text": [
            "[nltk_data] Downloading package stopwords to /root/nltk_data...\n",
            "[nltk_data]   Unzipping corpora/stopwords.zip.\n",
            "[nltk_data] Downloading package wordnet to /root/nltk_data...\n"
          ]
        },
        {
          "output_type": "execute_result",
          "data": {
            "text/plain": [
              "True"
            ]
          },
          "metadata": {},
          "execution_count": 8
        }
      ]
    },
    {
      "cell_type": "code",
      "source": [
        "import nltk\n",
        "nltk.download('punkt')"
      ],
      "metadata": {
        "colab": {
          "base_uri": "https://localhost:8080/"
        },
        "id": "uyAIErkv1xRD",
        "outputId": "eeb49638-ebc0-4652-cff3-83e307c8a564"
      },
      "execution_count": 10,
      "outputs": [
        {
          "output_type": "stream",
          "name": "stderr",
          "text": [
            "[nltk_data] Downloading package punkt to /root/nltk_data...\n",
            "[nltk_data]   Unzipping tokenizers/punkt.zip.\n"
          ]
        },
        {
          "output_type": "execute_result",
          "data": {
            "text/plain": [
              "True"
            ]
          },
          "metadata": {},
          "execution_count": 10
        }
      ]
    },
    {
      "cell_type": "code",
      "source": [
        "import nltk\n",
        "nltk.download('omw-1.4')"
      ],
      "metadata": {
        "colab": {
          "base_uri": "https://localhost:8080/"
        },
        "id": "4ehaTmYM14vf",
        "outputId": "6df305c7-c966-4819-e7b0-1bddac306d99"
      },
      "execution_count": 12,
      "outputs": [
        {
          "output_type": "stream",
          "name": "stderr",
          "text": [
            "[nltk_data] Downloading package omw-1.4 to /root/nltk_data...\n"
          ]
        },
        {
          "output_type": "execute_result",
          "data": {
            "text/plain": [
              "True"
            ]
          },
          "metadata": {},
          "execution_count": 12
        }
      ]
    },
    {
      "cell_type": "code",
      "source": [
        "#Preprocess the sms and clean the sms\n",
        "from nltk.corpus import stopwords\n",
        "from nltk.stem import WordNetLemmatizer\n",
        "\n",
        "lemmatizer=WordNetLemmatizer()\n",
        "corpus=[]\n",
        "\n",
        "for i in range(len(smsdata)):\n",
        "    msg=re.sub('[^a-zA-Z]',' ',smsdata['v2'][i])\n",
        "    msg=msg.lower()\n",
        "    msg=nltk.word_tokenize(msg)\n",
        "    msg=[lemmatizer.lemmatize(word) for word in msg if not word in set(stopwords.words('english'))]\n",
        "    msg=' '.join(msg)\n",
        "    corpus.append(msg)"
      ],
      "metadata": {
        "_kg_hide-output": false,
        "execution": {
          "iopub.status.busy": "2022-06-02T11:06:39.777275Z",
          "iopub.execute_input": "2022-06-02T11:06:39.777639Z",
          "iopub.status.idle": "2022-06-02T11:06:57.297729Z",
          "shell.execute_reply.started": "2022-06-02T11:06:39.777604Z",
          "shell.execute_reply": "2022-06-02T11:06:57.297021Z"
        },
        "trusted": true,
        "id": "HS-4aCbvtcMi"
      },
      "execution_count": 13,
      "outputs": []
    },
    {
      "cell_type": "code",
      "source": [
        "#get number of unique words in corpus\n",
        "'''\n",
        "#Understandable example of below unique word count section\n",
        "z=['Here it is','I am done']\n",
        "l=' '.join(z)\n",
        "print(l.split()) #output- ['Here', 'it', 'is', 'I', 'am', 'done']\n",
        "k=[x.split() for x in z]\n",
        "print(k)         #output- [['Here', 'it', 'is'], ['I', 'am', 'done']]\n",
        "'''\n",
        "\n",
        "#first join separate texts into one string\n",
        "full_corpus=' '.join(corpus)\n",
        "#split the whole corpus string to get a list of the words\n",
        "words_corpus=full_corpus.split()\n",
        "print(len(words_corpus))\n",
        "print(len(set(words_corpus)))"
      ],
      "metadata": {
        "execution": {
          "iopub.status.busy": "2022-06-02T11:24:10.149513Z",
          "iopub.execute_input": "2022-06-02T11:24:10.149887Z",
          "iopub.status.idle": "2022-06-02T11:24:10.168990Z",
          "shell.execute_reply.started": "2022-06-02T11:24:10.149852Z",
          "shell.execute_reply": "2022-06-02T11:24:10.167645Z"
        },
        "trusted": true,
        "colab": {
          "base_uri": "https://localhost:8080/"
        },
        "id": "lgpKgCBOtcMj",
        "outputId": "a8610595-545a-4639-d230-2fe27531aec2"
      },
      "execution_count": 14,
      "outputs": [
        {
          "output_type": "stream",
          "name": "stdout",
          "text": [
            "50035\n",
            "7039\n"
          ]
        }
      ]
    },
    {
      "cell_type": "code",
      "source": [
        "#Turn the corpus into vector using BagOfWords\n",
        "from sklearn.feature_extraction.text import CountVectorizer\n",
        "cv=CountVectorizer(max_features=7000)\n",
        "X=cv.fit_transform(corpus)"
      ],
      "metadata": {
        "execution": {
          "iopub.status.busy": "2022-06-02T11:27:10.302165Z",
          "iopub.execute_input": "2022-06-02T11:27:10.302631Z",
          "iopub.status.idle": "2022-06-02T11:27:10.410565Z",
          "shell.execute_reply.started": "2022-06-02T11:27:10.302571Z",
          "shell.execute_reply": "2022-06-02T11:27:10.409560Z"
        },
        "trusted": true,
        "id": "EZ5vdb4jtcMk"
      },
      "execution_count": 15,
      "outputs": []
    },
    {
      "cell_type": "code",
      "source": [
        "# Turn Label column into Numerical Value\n",
        "from sklearn.preprocessing import LabelEncoder\n",
        "le=LabelEncoder()\n",
        "smsdata['v1']=le.fit_transform(smsdata['v1'])\n",
        "Y=smsdata[['v1']]\n",
        "Y"
      ],
      "metadata": {
        "execution": {
          "iopub.status.busy": "2022-06-02T11:27:15.616716Z",
          "iopub.execute_input": "2022-06-02T11:27:15.617070Z",
          "iopub.status.idle": "2022-06-02T11:27:15.635028Z",
          "shell.execute_reply.started": "2022-06-02T11:27:15.617037Z",
          "shell.execute_reply": "2022-06-02T11:27:15.633759Z"
        },
        "trusted": true,
        "colab": {
          "base_uri": "https://localhost:8080/",
          "height": 423
        },
        "id": "nVkw0Y43tcMl",
        "outputId": "397efe25-9f69-4af0-ce9c-222e1fdfb0ce"
      },
      "execution_count": 16,
      "outputs": [
        {
          "output_type": "execute_result",
          "data": {
            "text/plain": [
              "      v1\n",
              "0      0\n",
              "1      0\n",
              "2      1\n",
              "3      0\n",
              "4      0\n",
              "...   ..\n",
              "5567   1\n",
              "5568   0\n",
              "5569   0\n",
              "5570   0\n",
              "5571   0\n",
              "\n",
              "[5572 rows x 1 columns]"
            ],
            "text/html": [
              "\n",
              "  <div id=\"df-36e79e15-1662-40e5-85a9-3822a10f0303\">\n",
              "    <div class=\"colab-df-container\">\n",
              "      <div>\n",
              "<style scoped>\n",
              "    .dataframe tbody tr th:only-of-type {\n",
              "        vertical-align: middle;\n",
              "    }\n",
              "\n",
              "    .dataframe tbody tr th {\n",
              "        vertical-align: top;\n",
              "    }\n",
              "\n",
              "    .dataframe thead th {\n",
              "        text-align: right;\n",
              "    }\n",
              "</style>\n",
              "<table border=\"1\" class=\"dataframe\">\n",
              "  <thead>\n",
              "    <tr style=\"text-align: right;\">\n",
              "      <th></th>\n",
              "      <th>v1</th>\n",
              "    </tr>\n",
              "  </thead>\n",
              "  <tbody>\n",
              "    <tr>\n",
              "      <th>0</th>\n",
              "      <td>0</td>\n",
              "    </tr>\n",
              "    <tr>\n",
              "      <th>1</th>\n",
              "      <td>0</td>\n",
              "    </tr>\n",
              "    <tr>\n",
              "      <th>2</th>\n",
              "      <td>1</td>\n",
              "    </tr>\n",
              "    <tr>\n",
              "      <th>3</th>\n",
              "      <td>0</td>\n",
              "    </tr>\n",
              "    <tr>\n",
              "      <th>4</th>\n",
              "      <td>0</td>\n",
              "    </tr>\n",
              "    <tr>\n",
              "      <th>...</th>\n",
              "      <td>...</td>\n",
              "    </tr>\n",
              "    <tr>\n",
              "      <th>5567</th>\n",
              "      <td>1</td>\n",
              "    </tr>\n",
              "    <tr>\n",
              "      <th>5568</th>\n",
              "      <td>0</td>\n",
              "    </tr>\n",
              "    <tr>\n",
              "      <th>5569</th>\n",
              "      <td>0</td>\n",
              "    </tr>\n",
              "    <tr>\n",
              "      <th>5570</th>\n",
              "      <td>0</td>\n",
              "    </tr>\n",
              "    <tr>\n",
              "      <th>5571</th>\n",
              "      <td>0</td>\n",
              "    </tr>\n",
              "  </tbody>\n",
              "</table>\n",
              "<p>5572 rows × 1 columns</p>\n",
              "</div>\n",
              "      <button class=\"colab-df-convert\" onclick=\"convertToInteractive('df-36e79e15-1662-40e5-85a9-3822a10f0303')\"\n",
              "              title=\"Convert this dataframe to an interactive table.\"\n",
              "              style=\"display:none;\">\n",
              "        \n",
              "  <svg xmlns=\"http://www.w3.org/2000/svg\" height=\"24px\"viewBox=\"0 0 24 24\"\n",
              "       width=\"24px\">\n",
              "    <path d=\"M0 0h24v24H0V0z\" fill=\"none\"/>\n",
              "    <path d=\"M18.56 5.44l.94 2.06.94-2.06 2.06-.94-2.06-.94-.94-2.06-.94 2.06-2.06.94zm-11 1L8.5 8.5l.94-2.06 2.06-.94-2.06-.94L8.5 2.5l-.94 2.06-2.06.94zm10 10l.94 2.06.94-2.06 2.06-.94-2.06-.94-.94-2.06-.94 2.06-2.06.94z\"/><path d=\"M17.41 7.96l-1.37-1.37c-.4-.4-.92-.59-1.43-.59-.52 0-1.04.2-1.43.59L10.3 9.45l-7.72 7.72c-.78.78-.78 2.05 0 2.83L4 21.41c.39.39.9.59 1.41.59.51 0 1.02-.2 1.41-.59l7.78-7.78 2.81-2.81c.8-.78.8-2.07 0-2.86zM5.41 20L4 18.59l7.72-7.72 1.47 1.35L5.41 20z\"/>\n",
              "  </svg>\n",
              "      </button>\n",
              "      \n",
              "  <style>\n",
              "    .colab-df-container {\n",
              "      display:flex;\n",
              "      flex-wrap:wrap;\n",
              "      gap: 12px;\n",
              "    }\n",
              "\n",
              "    .colab-df-convert {\n",
              "      background-color: #E8F0FE;\n",
              "      border: none;\n",
              "      border-radius: 50%;\n",
              "      cursor: pointer;\n",
              "      display: none;\n",
              "      fill: #1967D2;\n",
              "      height: 32px;\n",
              "      padding: 0 0 0 0;\n",
              "      width: 32px;\n",
              "    }\n",
              "\n",
              "    .colab-df-convert:hover {\n",
              "      background-color: #E2EBFA;\n",
              "      box-shadow: 0px 1px 2px rgba(60, 64, 67, 0.3), 0px 1px 3px 1px rgba(60, 64, 67, 0.15);\n",
              "      fill: #174EA6;\n",
              "    }\n",
              "\n",
              "    [theme=dark] .colab-df-convert {\n",
              "      background-color: #3B4455;\n",
              "      fill: #D2E3FC;\n",
              "    }\n",
              "\n",
              "    [theme=dark] .colab-df-convert:hover {\n",
              "      background-color: #434B5C;\n",
              "      box-shadow: 0px 1px 3px 1px rgba(0, 0, 0, 0.15);\n",
              "      filter: drop-shadow(0px 1px 2px rgba(0, 0, 0, 0.3));\n",
              "      fill: #FFFFFF;\n",
              "    }\n",
              "  </style>\n",
              "\n",
              "      <script>\n",
              "        const buttonEl =\n",
              "          document.querySelector('#df-36e79e15-1662-40e5-85a9-3822a10f0303 button.colab-df-convert');\n",
              "        buttonEl.style.display =\n",
              "          google.colab.kernel.accessAllowed ? 'block' : 'none';\n",
              "\n",
              "        async function convertToInteractive(key) {\n",
              "          const element = document.querySelector('#df-36e79e15-1662-40e5-85a9-3822a10f0303');\n",
              "          const dataTable =\n",
              "            await google.colab.kernel.invokeFunction('convertToInteractive',\n",
              "                                                     [key], {});\n",
              "          if (!dataTable) return;\n",
              "\n",
              "          const docLinkHtml = 'Like what you see? Visit the ' +\n",
              "            '<a target=\"_blank\" href=https://colab.research.google.com/notebooks/data_table.ipynb>data table notebook</a>'\n",
              "            + ' to learn more about interactive tables.';\n",
              "          element.innerHTML = '';\n",
              "          dataTable['output_type'] = 'display_data';\n",
              "          await google.colab.output.renderOutput(dataTable, element);\n",
              "          const docLink = document.createElement('div');\n",
              "          docLink.innerHTML = docLinkHtml;\n",
              "          element.appendChild(docLink);\n",
              "        }\n",
              "      </script>\n",
              "    </div>\n",
              "  </div>\n",
              "  "
            ]
          },
          "metadata": {},
          "execution_count": 16
        }
      ]
    },
    {
      "cell_type": "markdown",
      "source": [
        "## Train Test Split"
      ],
      "metadata": {
        "id": "a1slMbsItcMm"
      }
    },
    {
      "cell_type": "code",
      "source": [
        "#Split the data for training and testing\n",
        "from sklearn.model_selection import train_test_split\n",
        "x_train,x_test,y_train,y_test=train_test_split(X,Y,train_size=0.8,random_state=69)"
      ],
      "metadata": {
        "execution": {
          "iopub.status.busy": "2022-06-02T11:27:56.904572Z",
          "iopub.execute_input": "2022-06-02T11:27:56.905221Z",
          "iopub.status.idle": "2022-06-02T11:27:56.915914Z",
          "shell.execute_reply.started": "2022-06-02T11:27:56.905155Z",
          "shell.execute_reply": "2022-06-02T11:27:56.914929Z"
        },
        "trusted": true,
        "id": "Qhz0zyNktcMn"
      },
      "execution_count": 17,
      "outputs": []
    },
    {
      "cell_type": "code",
      "source": [
        "print(x_train.shape)\n",
        "print(y_train.shape)\n",
        "print(x_test.shape)\n",
        "print(y_test.shape)"
      ],
      "metadata": {
        "execution": {
          "iopub.status.busy": "2022-06-02T11:27:58.507613Z",
          "iopub.execute_input": "2022-06-02T11:27:58.508572Z",
          "iopub.status.idle": "2022-06-02T11:27:58.514913Z",
          "shell.execute_reply.started": "2022-06-02T11:27:58.508520Z",
          "shell.execute_reply": "2022-06-02T11:27:58.513927Z"
        },
        "trusted": true,
        "colab": {
          "base_uri": "https://localhost:8080/"
        },
        "id": "0JYEGR0ntcMn",
        "outputId": "86c7efcc-f82a-4907-eb3d-df1cf270bb40"
      },
      "execution_count": 18,
      "outputs": [
        {
          "output_type": "stream",
          "name": "stdout",
          "text": [
            "(4457, 7000)\n",
            "(4457, 1)\n",
            "(1115, 7000)\n",
            "(1115, 1)\n"
          ]
        }
      ]
    },
    {
      "cell_type": "markdown",
      "source": [
        "## Classification"
      ],
      "metadata": {
        "id": "RqtlefSptcMo"
      }
    },
    {
      "cell_type": "code",
      "source": [
        "#Classify using Naive Bayes\n",
        "from sklearn.naive_bayes import MultinomialNB\n",
        "multinb=MultinomialNB()\n",
        "model_nb=multinb.fit(x_train,y_train)"
      ],
      "metadata": {
        "execution": {
          "iopub.status.busy": "2022-06-02T11:29:12.198053Z",
          "iopub.execute_input": "2022-06-02T11:29:12.198899Z",
          "iopub.status.idle": "2022-06-02T11:29:12.214410Z",
          "shell.execute_reply.started": "2022-06-02T11:29:12.198850Z",
          "shell.execute_reply": "2022-06-02T11:29:12.213073Z"
        },
        "trusted": true,
        "colab": {
          "base_uri": "https://localhost:8080/"
        },
        "id": "AkXLOtZ9tcMo",
        "outputId": "6df4820a-6d55-4935-f28d-fb935b468d20"
      },
      "execution_count": 19,
      "outputs": [
        {
          "output_type": "stream",
          "name": "stderr",
          "text": [
            "/usr/local/lib/python3.8/dist-packages/sklearn/utils/validation.py:993: DataConversionWarning: A column-vector y was passed when a 1d array was expected. Please change the shape of y to (n_samples, ), for example using ravel().\n",
            "  y = column_or_1d(y, warn=True)\n"
          ]
        }
      ]
    },
    {
      "cell_type": "markdown",
      "source": [
        "## Prediction"
      ],
      "metadata": {
        "id": "RjM8n_l_tcMp"
      }
    },
    {
      "cell_type": "code",
      "source": [
        "#prediction\n",
        "y_pred=model_nb.predict(x_test)"
      ],
      "metadata": {
        "execution": {
          "iopub.status.busy": "2022-06-02T11:29:43.160132Z",
          "iopub.execute_input": "2022-06-02T11:29:43.160471Z",
          "iopub.status.idle": "2022-06-02T11:29:43.164892Z",
          "shell.execute_reply.started": "2022-06-02T11:29:43.160435Z",
          "shell.execute_reply": "2022-06-02T11:29:43.164183Z"
        },
        "trusted": true,
        "id": "JaDh8WiPtcMp"
      },
      "execution_count": 20,
      "outputs": []
    },
    {
      "cell_type": "code",
      "source": [
        "#store predicted value to csv file\n",
        "y_pred=pd.DataFrame(data=y_pred, columns=['v1'])\n",
        "\n",
        "y_pred.to_csv('Result.csv')"
      ],
      "metadata": {
        "execution": {
          "iopub.status.busy": "2022-06-02T11:31:11.242017Z",
          "iopub.execute_input": "2022-06-02T11:31:11.242346Z",
          "iopub.status.idle": "2022-06-02T11:31:11.253976Z",
          "shell.execute_reply.started": "2022-06-02T11:31:11.242305Z",
          "shell.execute_reply": "2022-06-02T11:31:11.252917Z"
        },
        "trusted": true,
        "id": "O7KkWy-5tcMq"
      },
      "execution_count": 21,
      "outputs": []
    },
    {
      "cell_type": "markdown",
      "source": [
        "## Performance Metrics"
      ],
      "metadata": {
        "id": "PpeW_05dtcMq"
      }
    },
    {
      "cell_type": "code",
      "source": [
        "#Get the Accuracy Score\n",
        "\n",
        "from sklearn.metrics import accuracy_score\n",
        "print(accuracy_score(y_pred,y_test))"
      ],
      "metadata": {
        "execution": {
          "iopub.status.busy": "2022-06-02T11:31:18.865492Z",
          "iopub.execute_input": "2022-06-02T11:31:18.866021Z",
          "iopub.status.idle": "2022-06-02T11:31:18.872358Z",
          "shell.execute_reply.started": "2022-06-02T11:31:18.865986Z",
          "shell.execute_reply": "2022-06-02T11:31:18.871586Z"
        },
        "trusted": true,
        "colab": {
          "base_uri": "https://localhost:8080/"
        },
        "id": "8kt5_EaGtcMq",
        "outputId": "6a998232-4e2a-4c38-b0b2-ff450d6e70bd"
      },
      "execution_count": 22,
      "outputs": [
        {
          "output_type": "stream",
          "name": "stdout",
          "text": [
            "0.968609865470852\n"
          ]
        }
      ]
    },
    {
      "cell_type": "code",
      "source": [
        "#Get Confusion Matrix\n",
        "from sklearn.metrics import confusion_matrix\n",
        "cm=confusion_matrix(y_pred,y_test)\n",
        "cm"
      ],
      "metadata": {
        "execution": {
          "iopub.status.busy": "2022-06-02T11:31:25.193750Z",
          "iopub.execute_input": "2022-06-02T11:31:25.194644Z",
          "iopub.status.idle": "2022-06-02T11:31:25.205412Z",
          "shell.execute_reply.started": "2022-06-02T11:31:25.194586Z",
          "shell.execute_reply": "2022-06-02T11:31:25.204358Z"
        },
        "trusted": true,
        "colab": {
          "base_uri": "https://localhost:8080/"
        },
        "id": "Z-VMFQGrtcMr",
        "outputId": "bc4ccc44-407e-41ed-a15f-7a66f02095f1"
      },
      "execution_count": 23,
      "outputs": [
        {
          "output_type": "execute_result",
          "data": {
            "text/plain": [
              "array([[928,  10],\n",
              "       [ 25, 152]])"
            ]
          },
          "metadata": {},
          "execution_count": 23
        }
      ]
    },
    {
      "cell_type": "markdown",
      "source": [
        "## Save Model in Pickle"
      ],
      "metadata": {
        "id": "UMe3vFs1tcMr"
      }
    },
    {
      "cell_type": "code",
      "source": [
        "#Save the ML model in pickle\n",
        "import pickle\n",
        "\n",
        "with open('model_NaiveBayes','wb') as dump_file:\n",
        "    pickle.dump(model_nb,dump_file)"
      ],
      "metadata": {
        "execution": {
          "iopub.status.busy": "2022-06-02T11:32:08.049680Z",
          "iopub.execute_input": "2022-06-02T11:32:08.050032Z",
          "iopub.status.idle": "2022-06-02T11:32:08.056897Z",
          "shell.execute_reply.started": "2022-06-02T11:32:08.049998Z",
          "shell.execute_reply": "2022-06-02T11:32:08.055817Z"
        },
        "trusted": true,
        "id": "_hicZwJjtcMs"
      },
      "execution_count": 24,
      "outputs": []
    },
    {
      "cell_type": "code",
      "source": [
        "#Load the ML model to predict\n",
        "\n",
        "with open('model_NaiveBayes','rb') as load_file:\n",
        "    nb_classifer=pickle.load(load_file)"
      ],
      "metadata": {
        "execution": {
          "iopub.status.busy": "2022-06-02T11:32:56.394122Z",
          "iopub.execute_input": "2022-06-02T11:32:56.395158Z",
          "iopub.status.idle": "2022-06-02T11:32:56.400592Z",
          "shell.execute_reply.started": "2022-06-02T11:32:56.395089Z",
          "shell.execute_reply": "2022-06-02T11:32:56.399704Z"
        },
        "trusted": true,
        "id": "fmvO84OvtcMs"
      },
      "execution_count": 25,
      "outputs": []
    },
    {
      "cell_type": "code",
      "source": [
        "#predict with loaded model\n",
        "nb_classifer.predict(x_test[0])"
      ],
      "metadata": {
        "execution": {
          "iopub.status.busy": "2022-06-02T11:33:26.347070Z",
          "iopub.execute_input": "2022-06-02T11:33:26.347909Z",
          "iopub.status.idle": "2022-06-02T11:33:26.356290Z",
          "shell.execute_reply.started": "2022-06-02T11:33:26.347814Z",
          "shell.execute_reply": "2022-06-02T11:33:26.355111Z"
        },
        "trusted": true,
        "colab": {
          "base_uri": "https://localhost:8080/"
        },
        "id": "2XQ7Cf9atcMs",
        "outputId": "7f2c7bb7-18df-43df-c657-fba7219f852b"
      },
      "execution_count": 26,
      "outputs": [
        {
          "output_type": "execute_result",
          "data": {
            "text/plain": [
              "array([0])"
            ]
          },
          "metadata": {},
          "execution_count": 26
        }
      ]
    },
    {
      "cell_type": "code",
      "source": [],
      "metadata": {
        "id": "bWQsLbPXtcMs"
      },
      "execution_count": null,
      "outputs": []
    }
  ]
}